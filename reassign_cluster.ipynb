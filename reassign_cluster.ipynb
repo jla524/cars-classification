{
  "nbformat": 4,
  "nbformat_minor": 0,
  "metadata": {
    "colab": {
      "name": "reassign_cluster.ipynb",
      "version": "0.3.2",
      "provenance": [],
      "private_outputs": true,
      "collapsed_sections": [],
      "include_colab_link": true
    },
    "kernelspec": {
      "name": "python3",
      "display_name": "Python 3"
    },
    "accelerator": "GPU"
  },
  "cells": [
    {
      "cell_type": "markdown",
      "metadata": {
        "id": "view-in-github",
        "colab_type": "text"
      },
      "source": [
        "<a href=\"https://colab.research.google.com/github/jla524/cars-classification/blob/master/reassign_cluster.ipynb\" target=\"_parent\"><img src=\"https://colab.research.google.com/assets/colab-badge.svg\" alt=\"Open In Colab\"/></a>"
      ]
    },
    {
      "cell_type": "code",
      "metadata": {
        "id": "XcqXjCiWD_u0",
        "colab_type": "code",
        "colab": {}
      },
      "source": [
        "import glob\n",
        "import numpy as np\n",
        "import pandas as pd\n",
        "from skimage.io import imread, imsave\n",
        "from sklearn.cluster import MiniBatchKMeans\n",
        "import os, urllib.request\n",
        "from progressbar import ProgressBar"
      ],
      "execution_count": 0,
      "outputs": []
    },
    {
      "cell_type": "code",
      "metadata": {
        "id": "E85PLmsVD9u5",
        "colab_type": "code",
        "colab": {}
      },
      "source": [
        "N_COLOURS = 32"
      ],
      "execution_count": 0,
      "outputs": []
    },
    {
      "cell_type": "code",
      "metadata": {
        "id": "knuZbVzZG6r3",
        "colab_type": "code",
        "colab": {}
      },
      "source": [
        "def reassign(FILENAME):\n",
        "  # get image and read pixel data\n",
        "  imgdata = imread(FILENAME)\n",
        "  shape = imgdata.shape\n",
        "  imgdata = imgdata.reshape(-1, 3)\n",
        "  \n",
        "  # find clusters of colours \n",
        "  clusterer = MiniBatchKMeans(N_COLOURS, batch_size=10000)\n",
        "  clusterer.fit(imgdata)\n",
        "  pixel_cluster = clusterer.predict(imgdata)\n",
        "  \n",
        "  # map each pixel back to the cluster centre (an RGB value)\n",
        "  colours = clusterer.cluster_centers_.astype(np.uint8)\n",
        "  imgdata = colours[pixel_cluster, :].reshape(shape)\n",
        "  imsave(FILENAME, imgdata)"
      ],
      "execution_count": 0,
      "outputs": []
    },
    {
      "cell_type": "code",
      "metadata": {
        "id": "H_XViDYsEFMx",
        "colab_type": "code",
        "colab": {}
      },
      "source": [
        "from google.colab import drive\n",
        "drive.mount('/content/drive')"
      ],
      "execution_count": 0,
      "outputs": []
    },
    {
      "cell_type": "code",
      "metadata": {
        "id": "-bzABiDgD7Z1",
        "colab_type": "code",
        "colab": {}
      },
      "source": [
        "path = '/content/drive/My Drive/car_data/**/**/*.jpg'\n",
        "files = [f for f in glob.glob(path, recursive=True)]"
      ],
      "execution_count": 0,
      "outputs": []
    },
    {
      "cell_type": "code",
      "metadata": {
        "id": "Xf7VaRE7FMc8",
        "colab_type": "code",
        "colab": {}
      },
      "source": [
        "pbar = ProgressBar()\n",
        "\n",
        "\n",
        "for file in pbar(files):\n",
        "  reassign(file)"
      ],
      "execution_count": 0,
      "outputs": []
    },
    {
      "cell_type": "code",
      "metadata": {
        "id": "0yOP6ucZQQQB",
        "colab_type": "code",
        "colab": {}
      },
      "source": [
        ""
      ],
      "execution_count": 0,
      "outputs": []
    }
  ]
}